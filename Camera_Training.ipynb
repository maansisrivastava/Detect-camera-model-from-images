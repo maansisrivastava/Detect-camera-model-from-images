{
  "nbformat": 4,
  "nbformat_minor": 0,
  "metadata": {
    "colab": {
      "name": "Camera - Training.ipynb",
      "provenance": [],
      "collapsed_sections": []
    },
    "kernelspec": {
      "display_name": "Python 3",
      "language": "python",
      "name": "python3"
    }
  },
  "cells": [
    {
      "cell_type": "code",
      "metadata": {
        "id": "4waReXQ9HQGI",
        "colab_type": "code",
        "outputId": "abfd6b19-f931-4a6e-8a8e-7538e013b290",
        "colab": {}
      },
      "source": [
        "import os\n",
        "from pathlib import Path\n",
        "import multiprocessing as proc\n",
        "import numpy as np\n",
        "import pandas as pd\n",
        "from skimage.data import imread\n",
        "from sklearn.ensemble import RandomForestClassifier\n",
        "from subprocess import check_output\n",
        "import pickle"
      ],
      "execution_count": 0,
      "outputs": [
        {
          "output_type": "stream",
          "text": [
            "camera_model.pkl\n",
            "test1\n",
            "train\n",
            "\n"
          ],
          "name": "stdout"
        }
      ]
    },
    {
      "cell_type": "code",
      "metadata": {
        "id": "MzugGTl9HQGO",
        "colab_type": "code",
        "colab": {}
      },
      "source": [
        "train_path = '/home/maansi/input/train'\n",
        "test_path = '/home/maansi/input/test1'"
      ],
      "execution_count": 0,
      "outputs": []
    },
    {
      "cell_type": "code",
      "metadata": {
        "id": "sRPsyu-HHQGS",
        "colab_type": "code",
        "outputId": "d534e630-bde4-4671-c7d5-b3e5bacc5cf9",
        "colab": {}
      },
      "source": [
        "cameras = os.listdir(train_path)\n",
        "train_images = []\n",
        "for camera in cameras:\n",
        "    for fname in sorted(os.listdir(train_path / camera)):\n",
        "        train_images.append((camera, fname))\n",
        "train = pd.DataFrame(train_images, columns=['camera', 'fname'])"
      ],
      "execution_count": 0,
      "outputs": [
        {
          "output_type": "stream",
          "text": [
            "(2750, 2)\n"
          ],
          "name": "stdout"
        },
        {
          "output_type": "execute_result",
          "data": {
            "text/html": [
              "<div>\n",
              "<table border=\"1\" class=\"dataframe\">\n",
              "  <thead>\n",
              "    <tr style=\"text-align: right;\">\n",
              "      <th></th>\n",
              "      <th>camera</th>\n",
              "      <th>fname</th>\n",
              "    </tr>\n",
              "  </thead>\n",
              "  <tbody>\n",
              "    <tr>\n",
              "      <th>68</th>\n",
              "      <td>HTC-1-M7</td>\n",
              "      <td>(HTC-1-M7)160.jpg</td>\n",
              "    </tr>\n",
              "    <tr>\n",
              "      <th>1155</th>\n",
              "      <td>iPhone-6</td>\n",
              "      <td>(iP6)149.jpg</td>\n",
              "    </tr>\n",
              "    <tr>\n",
              "      <th>1622</th>\n",
              "      <td>iPhone-4s</td>\n",
              "      <td>(iP4s)74.jpg</td>\n",
              "    </tr>\n",
              "    <tr>\n",
              "      <th>447</th>\n",
              "      <td>Motorola-Nexus-6</td>\n",
              "      <td>(MotoNex6)254.jpg</td>\n",
              "    </tr>\n",
              "    <tr>\n",
              "      <th>358</th>\n",
              "      <td>Motorola-Nexus-6</td>\n",
              "      <td>(MotoNex6)174.jpg</td>\n",
              "    </tr>\n",
              "  </tbody>\n",
              "</table>\n",
              "</div>"
            ],
            "text/plain": [
              "                camera              fname\n",
              "68            HTC-1-M7  (HTC-1-M7)160.jpg\n",
              "1155          iPhone-6       (iP6)149.jpg\n",
              "1622         iPhone-4s       (iP4s)74.jpg\n",
              "447   Motorola-Nexus-6  (MotoNex6)254.jpg\n",
              "358   Motorola-Nexus-6  (MotoNex6)174.jpg"
            ]
          },
          "metadata": {
            "tags": []
          },
          "execution_count": 3
        }
      ]
    },
    {
      "cell_type": "code",
      "metadata": {
        "id": "QDdEvY3pHQGW",
        "colab_type": "code",
        "outputId": "324a4abc-8413-4899-af2d-ddc4c0197147",
        "colab": {}
      },
      "source": [
        "test_images = []\n",
        "for fname in sorted(os.listdir(test_path)):\n",
        "    test_images.append(fname)\n",
        "test = pd.DataFrame(test_images, columns=['fname'])"
      ],
      "execution_count": 0,
      "outputs": [
        {
          "output_type": "stream",
          "text": [
            "(70, 1)\n"
          ],
          "name": "stdout"
        },
        {
          "output_type": "execute_result",
          "data": {
            "text/html": [
              "<div>\n",
              "<table border=\"1\" class=\"dataframe\">\n",
              "  <thead>\n",
              "    <tr style=\"text-align: right;\">\n",
              "      <th></th>\n",
              "      <th>fname</th>\n",
              "    </tr>\n",
              "  </thead>\n",
              "  <tbody>\n",
              "    <tr>\n",
              "      <th>0</th>\n",
              "      <td>(GalaxyN3)22.jpg</td>\n",
              "    </tr>\n",
              "    <tr>\n",
              "      <th>1</th>\n",
              "      <td>(GalaxyN3)23.jpg</td>\n",
              "    </tr>\n",
              "    <tr>\n",
              "      <th>2</th>\n",
              "      <td>(GalaxyN3)24.jpg</td>\n",
              "    </tr>\n",
              "    <tr>\n",
              "      <th>3</th>\n",
              "      <td>(GalaxyN3)25.jpg</td>\n",
              "    </tr>\n",
              "    <tr>\n",
              "      <th>4</th>\n",
              "      <td>(GalaxyS4)11.jpg</td>\n",
              "    </tr>\n",
              "  </tbody>\n",
              "</table>\n",
              "</div>"
            ],
            "text/plain": [
              "              fname\n",
              "0  (GalaxyN3)22.jpg\n",
              "1  (GalaxyN3)23.jpg\n",
              "2  (GalaxyN3)24.jpg\n",
              "3  (GalaxyN3)25.jpg\n",
              "4  (GalaxyS4)11.jpg"
            ]
          },
          "metadata": {
            "tags": []
          },
          "execution_count": 4
        }
      ]
    },
    {
      "cell_type": "code",
      "metadata": {
        "id": "Ehsg-K93HQGa",
        "colab_type": "code",
        "colab": {}
      },
      "source": [
        "def feature_extract(m, lock):\n",
        "    while True:\n",
        "        images_list = m.get()\n",
        "        if images_list is None:\n",
        "            break\n",
        "        if type(images_list) is tuple:\n",
        "            img = imread('/home/maansi/input/check/train'/images_list[0]/images_list[1])\n",
        "            key = images_list[1]\n",
        "        else:\n",
        "            img = imread('/home/maansi/input/check/'+images_list)\n",
        "            key = images_list\n",
        "\n",
        "        if img.shape == (2,):\n",
        "            img = img[0]\n",
        "\n",
        "        features[key] = (img[:, :, 0].mean(), img[:, :, 1].mean(), img[:, :, 2].mean(),\n",
        "                           img[:, :, 0].std(),  img[:, :, 1].std(),  img[:, :, 2].std())    "
      ],
      "execution_count": 0,
      "outputs": []
    },
    {
      "cell_type": "code",
      "metadata": {
        "id": "PnVddSbmHQGd",
        "colab_type": "code",
        "colab": {}
      },
      "source": [
        "feature_cols = ['channel1_mean', 'channel2_mean', 'channel3_mean', 'channel1_std', 'channel2_std', 'channel3_std']\n",
        "\n",
        "for col in feature_cols:\n",
        "    train[col] = None\n",
        "    test[col] = None"
      ],
      "execution_count": 0,
      "outputs": []
    },
    {
      "cell_type": "code",
      "metadata": {
        "id": "ca2xZmLEHQGf",
        "colab_type": "code",
        "colab": {}
      },
      "source": [
        "parallel_cores = 8\n",
        "\n",
        "features = proc.Manager().dict()\n",
        "\n",
        "m = proc.Queue(maxsize=parallel_cores)\n",
        "lock = proc.Lock()\n",
        "process_pool = proc.Pool(parallel_cores, initializer=feature_extract, initargs=(m, lock))\n",
        "\n",
        "for i in test_images:\n",
        "    m.put(i)\n",
        "    \n",
        "for _ in range(parallel_cores):  \n",
        "    m.put(None)\n",
        "process_pool.close()\n",
        "process_pool.join()\n",
        "\n",
        "features = dict(features)"
      ],
      "execution_count": 0,
      "outputs": []
    },
    {
      "cell_type": "code",
      "metadata": {
        "id": "WPB0biqyHQGh",
        "colab_type": "code",
        "colab": {}
      },
      "source": [
        "for n, col in enumerate(feature_cols):\n",
        "    train[col] = train['fname'].apply(lambda x: features[x][n])\n",
        "    test[col] = test['fname'].apply(lambda x: features[x][n])"
      ],
      "execution_count": 0,
      "outputs": []
    },
    {
      "cell_type": "code",
      "metadata": {
        "id": "sN04vKdaHQGq",
        "colab_type": "code",
        "colab": {}
      },
      "source": [
        "y = train['camera'].values\n",
        "X_train = train[cols].values\n",
        "X_test = test[cols].values"
      ],
      "execution_count": 0,
      "outputs": []
    },
    {
      "cell_type": "code",
      "metadata": {
        "id": "e8Gxrdy3HQGu",
        "colab_type": "code",
        "outputId": "b9d1e65a-ca3c-469e-aa86-98d0c40a8452",
        "colab": {}
      },
      "source": [
        "clf = RandomForestClassifier(n_estimators=200)\n",
        "clf.fit(X_train, y)"
      ],
      "execution_count": 0,
      "outputs": [
        {
          "output_type": "execute_result",
          "data": {
            "text/plain": [
              "RandomForestClassifier(bootstrap=True, class_weight=None, criterion='gini',\n",
              "            max_depth=None, max_features='auto', max_leaf_nodes=None,\n",
              "            min_impurity_decrease=0.0, min_impurity_split=None,\n",
              "            min_samples_leaf=1, min_samples_split=2,\n",
              "            min_weight_fraction_leaf=0.0, n_estimators=200, n_jobs=1,\n",
              "            oob_score=False, random_state=None, verbose=0,\n",
              "            warm_start=False)"
            ]
          },
          "metadata": {
            "tags": []
          },
          "execution_count": 11
        }
      ]
    },
    {
      "cell_type": "code",
      "metadata": {
        "id": "sKXSHWzNHQG4",
        "colab_type": "code",
        "colab": {}
      },
      "source": [
        "filename = '/home/maansi/input/camera_model.pkl'\n",
        "pickle.dump(clf, open(filename, 'wb'))"
      ],
      "execution_count": 0,
      "outputs": []
    }
  ]
}