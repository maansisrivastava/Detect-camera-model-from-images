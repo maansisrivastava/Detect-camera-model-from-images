{
  "nbformat": 4,
  "nbformat_minor": 0,
  "metadata": {
    "colab": {
      "name": "Camera - Run.ipynb",
      "provenance": [],
      "collapsed_sections": []
    },
    "kernelspec": {
      "display_name": "Python 3",
      "language": "python",
      "name": "python3"
    }
  },
  "cells": [
    {
      "cell_type": "code",
      "metadata": {
        "id": "d6JeIQQzBE3I",
        "colab_type": "code",
        "colab": {}
      },
      "source": [
        "import pickle\n",
        "import os\n",
        "import pandas as pd\n",
        "import multiprocessing as proc\n",
        "from skimage.data import imread\n",
        "from sklearn.ensemble import RandomForestClassifier"
      ],
      "execution_count": 0,
      "outputs": []
    },
    {
      "cell_type": "code",
      "metadata": {
        "id": "FeEddK58BE3P",
        "colab_type": "code",
        "colab": {}
      },
      "source": [
        "model = pickle.load(open('/home/maansi/input/camera_model.pkl', 'rb'))\n",
        "test_images_folder = '/home/maansi/input/check'\n",
        "test_images = []\n",
        "for fname in sorted(os.listdir(test_images_folder)):\n",
        "    test_images.append(fname)\n",
        "infer = pd.DataFrame(test_images, columns=['fname'])"
      ],
      "execution_count": 0,
      "outputs": []
    },
    {
      "cell_type": "code",
      "metadata": {
        "id": "jZhBhUUPBE3W",
        "colab_type": "code",
        "colab": {}
      },
      "source": [
        "def feature_extract(m, lock):\n",
        "    while True:\n",
        "        images_list = m.get()\n",
        "        if images_list is None:\n",
        "            break\n",
        "        if type(images_list) is tuple:\n",
        "            img = imread('/home/maansi/input/train'/images_list[0]/images_list[1])\n",
        "            key = images_list[1]\n",
        "        else:\n",
        "            img = imread('/home/maansi/input/check/'+images_list)\n",
        "            key = images_list\n",
        "\n",
        "        if img.shape == (2,):\n",
        "            img = img[0]\n",
        "\n",
        "        features[key] = (img[:, :, 0].mean(), img[:, :, 1].mean(), img[:, :, 2].mean(),\n",
        "                           img[:, :, 0].std(),  img[:, :, 1].std(),  img[:, :, 2].std())    "
      ],
      "execution_count": 0,
      "outputs": []
    },
    {
      "cell_type": "code",
      "metadata": {
        "id": "tVzZ4CtcBE3Y",
        "colab_type": "code",
        "colab": {}
      },
      "source": [
        "feature_cols = ['channel1_mean', 'channel2_mean', 'channel3_mean', 'channel1_std', 'channel2_std', 'channel3_std']\n",
        "\n",
        "for col in feature_cols:\n",
        "    infer[col] = None"
      ],
      "execution_count": 0,
      "outputs": []
    },
    {
      "cell_type": "code",
      "metadata": {
        "id": "5Nhio2ZjBE3b",
        "colab_type": "code",
        "colab": {}
      },
      "source": [
        "parallel_cores = 8\n",
        "\n",
        "features = proc.Manager().dict()\n",
        "\n",
        "m = proc.Queue(maxsize=parallel_cores)\n",
        "lock = proc.Lock()\n",
        "process_pool = proc.Pool(parallel_cores, initializer=feature_extract, initargs=(m, lock))\n",
        "\n",
        "for i in test_images:\n",
        "    m.put(i)\n",
        "    \n",
        "for _ in range(parallel_cores):  \n",
        "    m.put(None)\n",
        "process_pool.close()\n",
        "process_pool.join()\n",
        "\n",
        "features = dict(features)"
      ],
      "execution_count": 0,
      "outputs": []
    },
    {
      "cell_type": "code",
      "metadata": {
        "id": "NHxZD-I7BE3d",
        "colab_type": "code",
        "colab": {}
      },
      "source": [
        "for n, col in enumerate(feature_cols):\n",
        "    infer[col] = infer['fname'].apply(lambda x: features[x][n])"
      ],
      "execution_count": 0,
      "outputs": []
    },
    {
      "cell_type": "code",
      "metadata": {
        "id": "0adGqHgWBE3f",
        "colab_type": "code",
        "colab": {}
      },
      "source": [
        "X_test = infer[feature_cols].values"
      ],
      "execution_count": 0,
      "outputs": []
    },
    {
      "cell_type": "code",
      "metadata": {
        "id": "Dl5JnuNEBE3i",
        "colab_type": "code",
        "outputId": "1692b19a-a407-4394-a9a6-f07c6f2e1e55",
        "colab": {}
      },
      "source": [
        "y_pred = model.predict(X_test)\n",
        "print(test_images)\n",
        "print(y_pred)"
      ],
      "execution_count": 0,
      "outputs": [
        {
          "output_type": "stream",
          "text": [
            "['(iP4s)26.jpg']\n",
            "['iPhone-4s']\n"
          ],
          "name": "stdout"
        }
      ]
    },
    {
      "cell_type": "code",
      "metadata": {
        "id": "5EgzkqX_Mw3f",
        "colab_type": "code",
        "colab": {}
      },
      "source": [
        ""
      ],
      "execution_count": 0,
      "outputs": []
    }
  ]
}